{
 "cells": [
  {
   "cell_type": "code",
   "execution_count": 12,
   "metadata": {},
   "outputs": [],
   "source": [
    "import requests\n",
    "import matplotlib.pyplot as plt\n",
    "import pandas as pd\n",
    "import numpy as np\n",
    "import requests as r\n",
    "import time as dt\n",
    "import sqlalchemy\n",
    "from datetime import datetime, timedelta"
   ]
  },
  {
   "cell_type": "code",
   "execution_count": 22,
   "metadata": {},
   "outputs": [
    {
     "data": {
      "text/plain": [
       "{'error': 'Requested symbol_id is invalid does not exists.'}"
      ]
     },
     "execution_count": 22,
     "metadata": {},
     "output_type": "execute_result"
    }
   ],
   "source": [
    "url = 'https://rest.coinapi.io/v1/quotes/HBDM_PERP_DOGE_USD/latest'\n",
    "headers = {'X-CoinAPI-Key' : '64446BC7-8FF8-4090-89CD-5158CCF7D7B6'}\n",
    "response = requests.get(url, headers=headers).json()\n",
    "response"
   ]
  },
  {
   "cell_type": "code",
   "execution_count": null,
   "metadata": {},
   "outputs": [],
   "source": []
  },
  {
   "cell_type": "code",
   "execution_count": 3,
   "metadata": {},
   "outputs": [
    {
     "data": {
      "text/html": [
       "<div>\n",
       "<style scoped>\n",
       "    .dataframe tbody tr th:only-of-type {\n",
       "        vertical-align: middle;\n",
       "    }\n",
       "\n",
       "    .dataframe tbody tr th {\n",
       "        vertical-align: top;\n",
       "    }\n",
       "\n",
       "    .dataframe thead th {\n",
       "        text-align: right;\n",
       "    }\n",
       "</style>\n",
       "<table border=\"1\" class=\"dataframe\">\n",
       "  <thead>\n",
       "    <tr style=\"text-align: right;\">\n",
       "      <th></th>\n",
       "      <th>symbol_id</th>\n",
       "      <th>time_exchange</th>\n",
       "      <th>time_coinapi</th>\n",
       "      <th>ask_price</th>\n",
       "      <th>ask_size</th>\n",
       "      <th>bid_price</th>\n",
       "      <th>bid_size</th>\n",
       "    </tr>\n",
       "  </thead>\n",
       "  <tbody>\n",
       "    <tr>\n",
       "      <th>0</th>\n",
       "      <td>DERIBIT_OPT_BTC_USD_210730_30000_P</td>\n",
       "      <td>2021-05-22T15:09:36.2269689Z</td>\n",
       "      <td>2021-05-22T15:09:36.2276952Z</td>\n",
       "      <td>1.140000e-01</td>\n",
       "      <td>12.7000</td>\n",
       "      <td>1.100000e-01</td>\n",
       "      <td>25.20</td>\n",
       "    </tr>\n",
       "    <tr>\n",
       "      <th>1</th>\n",
       "      <td>DERIBIT_OPT_BTC_USD_210523_37000_P</td>\n",
       "      <td>2021-05-22T15:09:36.2240520Z</td>\n",
       "      <td>2021-05-22T15:09:36.2278205Z</td>\n",
       "      <td>2.500000e-02</td>\n",
       "      <td>25.8000</td>\n",
       "      <td>2.250000e-02</td>\n",
       "      <td>17.70</td>\n",
       "    </tr>\n",
       "    <tr>\n",
       "      <th>2</th>\n",
       "      <td>DERIBIT_OPT_BTC_USD_210523_33000_P</td>\n",
       "      <td>2021-05-22T15:09:36.2239571Z</td>\n",
       "      <td>2021-05-22T15:09:36.2258243Z</td>\n",
       "      <td>6.500000e-03</td>\n",
       "      <td>29.1000</td>\n",
       "      <td>5.000000e-03</td>\n",
       "      <td>17.00</td>\n",
       "    </tr>\n",
       "    <tr>\n",
       "      <th>3</th>\n",
       "      <td>DERIBIT_OPT_BTC_USD_220325_40000_P</td>\n",
       "      <td>2021-05-22T15:09:36.2182899Z</td>\n",
       "      <td>2021-05-22T15:09:36.2279978Z</td>\n",
       "      <td>3.895000e-01</td>\n",
       "      <td>2.0000</td>\n",
       "      <td>3.670000e-01</td>\n",
       "      <td>4.00</td>\n",
       "    </tr>\n",
       "    <tr>\n",
       "      <th>4</th>\n",
       "      <td>DERIBIT_OPT_BTC_USD_210604_40000_P</td>\n",
       "      <td>2021-05-22T15:09:36.2182775Z</td>\n",
       "      <td>2021-05-22T15:09:36.2267464Z</td>\n",
       "      <td>1.940000e-01</td>\n",
       "      <td>0.4000</td>\n",
       "      <td>1.290000e-01</td>\n",
       "      <td>15.00</td>\n",
       "    </tr>\n",
       "    <tr>\n",
       "      <th>...</th>\n",
       "      <td>...</td>\n",
       "      <td>...</td>\n",
       "      <td>...</td>\n",
       "      <td>...</td>\n",
       "      <td>...</td>\n",
       "      <td>...</td>\n",
       "      <td>...</td>\n",
       "    </tr>\n",
       "    <tr>\n",
       "      <th>95</th>\n",
       "      <td>CURRENCYCOM_SPOT_BCH_BTC</td>\n",
       "      <td>2021-05-22T15:09:36.1000000Z</td>\n",
       "      <td>2021-05-22T15:09:36.1620720Z</td>\n",
       "      <td>1.763000e-02</td>\n",
       "      <td>30.0000</td>\n",
       "      <td>1.752000e-02</td>\n",
       "      <td>30.00</td>\n",
       "    </tr>\n",
       "    <tr>\n",
       "      <th>96</th>\n",
       "      <td>BTSE_SPOT_LINK_PAX</td>\n",
       "      <td>2021-05-22T15:09:36.0970327Z</td>\n",
       "      <td>2021-05-22T15:09:36.0973687Z</td>\n",
       "      <td>2.442000e+01</td>\n",
       "      <td>210.8600</td>\n",
       "      <td>2.431300e+01</td>\n",
       "      <td>144.06</td>\n",
       "    </tr>\n",
       "    <tr>\n",
       "      <th>97</th>\n",
       "      <td>BITMAX_SPOT_SRM_USDT</td>\n",
       "      <td>2021-05-22T15:09:36.0970000Z</td>\n",
       "      <td>2021-05-22T15:09:36.2570125Z</td>\n",
       "      <td>4.971650e+00</td>\n",
       "      <td>37.0000</td>\n",
       "      <td>4.954480e+00</td>\n",
       "      <td>69.00</td>\n",
       "    </tr>\n",
       "    <tr>\n",
       "      <th>98</th>\n",
       "      <td>DRAGONEX_SPOT_BTC2S_DC</td>\n",
       "      <td>2021-05-22T15:09:36.0930418Z</td>\n",
       "      <td>2021-05-22T15:09:36.0931628Z</td>\n",
       "      <td>1.057160e+00</td>\n",
       "      <td>20.0000</td>\n",
       "      <td>9.394400e-01</td>\n",
       "      <td>20.00</td>\n",
       "    </tr>\n",
       "    <tr>\n",
       "      <th>99</th>\n",
       "      <td>QUOINE_SPOT_BTC_GYEN</td>\n",
       "      <td>2021-05-22T15:09:36.0912223Z</td>\n",
       "      <td>2021-05-22T15:09:36.0912223Z</td>\n",
       "      <td>4.094518e+06</td>\n",
       "      <td>0.0119</td>\n",
       "      <td>4.075669e+06</td>\n",
       "      <td>0.05</td>\n",
       "    </tr>\n",
       "  </tbody>\n",
       "</table>\n",
       "<p>100 rows × 7 columns</p>\n",
       "</div>"
      ],
      "text/plain": [
       "                             symbol_id                 time_exchange  \\\n",
       "0   DERIBIT_OPT_BTC_USD_210730_30000_P  2021-05-22T15:09:36.2269689Z   \n",
       "1   DERIBIT_OPT_BTC_USD_210523_37000_P  2021-05-22T15:09:36.2240520Z   \n",
       "2   DERIBIT_OPT_BTC_USD_210523_33000_P  2021-05-22T15:09:36.2239571Z   \n",
       "3   DERIBIT_OPT_BTC_USD_220325_40000_P  2021-05-22T15:09:36.2182899Z   \n",
       "4   DERIBIT_OPT_BTC_USD_210604_40000_P  2021-05-22T15:09:36.2182775Z   \n",
       "..                                 ...                           ...   \n",
       "95            CURRENCYCOM_SPOT_BCH_BTC  2021-05-22T15:09:36.1000000Z   \n",
       "96                  BTSE_SPOT_LINK_PAX  2021-05-22T15:09:36.0970327Z   \n",
       "97                BITMAX_SPOT_SRM_USDT  2021-05-22T15:09:36.0970000Z   \n",
       "98              DRAGONEX_SPOT_BTC2S_DC  2021-05-22T15:09:36.0930418Z   \n",
       "99                QUOINE_SPOT_BTC_GYEN  2021-05-22T15:09:36.0912223Z   \n",
       "\n",
       "                    time_coinapi     ask_price  ask_size     bid_price  \\\n",
       "0   2021-05-22T15:09:36.2276952Z  1.140000e-01   12.7000  1.100000e-01   \n",
       "1   2021-05-22T15:09:36.2278205Z  2.500000e-02   25.8000  2.250000e-02   \n",
       "2   2021-05-22T15:09:36.2258243Z  6.500000e-03   29.1000  5.000000e-03   \n",
       "3   2021-05-22T15:09:36.2279978Z  3.895000e-01    2.0000  3.670000e-01   \n",
       "4   2021-05-22T15:09:36.2267464Z  1.940000e-01    0.4000  1.290000e-01   \n",
       "..                           ...           ...       ...           ...   \n",
       "95  2021-05-22T15:09:36.1620720Z  1.763000e-02   30.0000  1.752000e-02   \n",
       "96  2021-05-22T15:09:36.0973687Z  2.442000e+01  210.8600  2.431300e+01   \n",
       "97  2021-05-22T15:09:36.2570125Z  4.971650e+00   37.0000  4.954480e+00   \n",
       "98  2021-05-22T15:09:36.0931628Z  1.057160e+00   20.0000  9.394400e-01   \n",
       "99  2021-05-22T15:09:36.0912223Z  4.094518e+06    0.0119  4.075669e+06   \n",
       "\n",
       "    bid_size  \n",
       "0      25.20  \n",
       "1      17.70  \n",
       "2      17.00  \n",
       "3       4.00  \n",
       "4      15.00  \n",
       "..       ...  \n",
       "95     30.00  \n",
       "96    144.06  \n",
       "97     69.00  \n",
       "98     20.00  \n",
       "99      0.05  \n",
       "\n",
       "[100 rows x 7 columns]"
      ]
     },
     "execution_count": 3,
     "metadata": {},
     "output_type": "execute_result"
    }
   ],
   "source": [
    "data_df=pd.DataFrame(response)\n",
    "data_df"
   ]
  },
  {
   "cell_type": "code",
   "execution_count": 4,
   "metadata": {},
   "outputs": [
    {
     "data": {
      "text/html": [
       "<div>\n",
       "<style scoped>\n",
       "    .dataframe tbody tr th:only-of-type {\n",
       "        vertical-align: middle;\n",
       "    }\n",
       "\n",
       "    .dataframe tbody tr th {\n",
       "        vertical-align: top;\n",
       "    }\n",
       "\n",
       "    .dataframe thead th {\n",
       "        text-align: right;\n",
       "    }\n",
       "</style>\n",
       "<table border=\"1\" class=\"dataframe\">\n",
       "  <thead>\n",
       "    <tr style=\"text-align: right;\">\n",
       "      <th></th>\n",
       "      <th>symbol_id</th>\n",
       "      <th>time_exchange</th>\n",
       "      <th>time_coinapi</th>\n",
       "      <th>ask_price</th>\n",
       "      <th>ask_size</th>\n",
       "      <th>bid_price</th>\n",
       "      <th>bid_size</th>\n",
       "    </tr>\n",
       "  </thead>\n",
       "  <tbody>\n",
       "  </tbody>\n",
       "</table>\n",
       "</div>"
      ],
      "text/plain": [
       "Empty DataFrame\n",
       "Columns: [symbol_id, time_exchange, time_coinapi, ask_price, ask_size, bid_price, bid_size]\n",
       "Index: []"
      ]
     },
     "execution_count": 4,
     "metadata": {},
     "output_type": "execute_result"
    }
   ],
   "source": [
    "doge_df = data_df[data_df['symbol_id'] == 'HBDM_PERP_DOGE_USD'] \n",
    "doge_df"
   ]
  },
  {
   "cell_type": "code",
   "execution_count": 21,
   "metadata": {},
   "outputs": [
    {
     "data": {
      "text/plain": [
       "{'symbol_id': 'HBDM_PERP_DOGE_USD',\n",
       " 'time_exchange': '2021-05-22T12:23:21.5853922Z',\n",
       " 'time_coinapi': '2021-05-22T12:23:21.5853922Z',\n",
       " 'ask_price': 0.352171,\n",
       " 'ask_size': 530.0,\n",
       " 'bid_price': 0.35217,\n",
       " 'bid_size': 1750.0}"
      ]
     },
     "execution_count": 21,
     "metadata": {},
     "output_type": "execute_result"
    }
   ],
   "source": [
    "price_doge=response[0]\n",
    "price_doge"
   ]
  },
  {
   "cell_type": "code",
   "execution_count": 18,
   "metadata": {},
   "outputs": [
    {
     "data": {
      "text/html": [
       "<div>\n",
       "<style scoped>\n",
       "    .dataframe tbody tr th:only-of-type {\n",
       "        vertical-align: middle;\n",
       "    }\n",
       "\n",
       "    .dataframe tbody tr th {\n",
       "        vertical-align: top;\n",
       "    }\n",
       "\n",
       "    .dataframe thead th {\n",
       "        text-align: right;\n",
       "    }\n",
       "</style>\n",
       "<table border=\"1\" class=\"dataframe\">\n",
       "  <thead>\n",
       "    <tr style=\"text-align: right;\">\n",
       "      <th></th>\n",
       "      <th>symbol_id</th>\n",
       "      <th>time_exchange</th>\n",
       "      <th>time_coinapi</th>\n",
       "      <th>ask_price</th>\n",
       "      <th>ask_size</th>\n",
       "      <th>bid_price</th>\n",
       "      <th>bid_size</th>\n",
       "    </tr>\n",
       "  </thead>\n",
       "  <tbody>\n",
       "  </tbody>\n",
       "</table>\n",
       "</div>"
      ],
      "text/plain": [
       "Empty DataFrame\n",
       "Columns: [symbol_id, time_exchange, time_coinapi, ask_price, ask_size, bid_price, bid_size]\n",
       "Index: []"
      ]
     },
     "execution_count": 18,
     "metadata": {},
     "output_type": "execute_result"
    }
   ],
   "source": [
    "btc_df=data_df[data_df['symbol_id']=='HBDM_FTS_BTC_USD_210528']\n",
    "btc_df"
   ]
  },
  {
   "cell_type": "code",
   "execution_count": 7,
   "metadata": {},
   "outputs": [],
   "source": [
    "price_btc=response[30]"
   ]
  },
  {
   "cell_type": "code",
   "execution_count": 8,
   "metadata": {},
   "outputs": [
    {
     "data": {
      "text/plain": [
       "{'doge': {'symbol_id': 'BTSE_SPOT_ATOM_TUSD',\n",
       "  'time_exchange': '2021-05-22T15:09:36.1418323Z',\n",
       "  'time_coinapi': '2021-05-22T15:09:36.1445485Z',\n",
       "  'ask_price': 12.997,\n",
       "  'ask_size': 360.7,\n",
       "  'bid_price': 12.65,\n",
       "  'bid_size': 927.1},\n",
       " 'btc': {'symbol_id': 'DRAGONEX_SPOT_DOGE_USDT',\n",
       "  'time_exchange': '2021-05-22T15:09:36.1626738Z',\n",
       "  'time_coinapi': '2021-05-22T15:09:36.1627880Z',\n",
       "  'ask_price': 0.355945,\n",
       "  'ask_size': 408.0,\n",
       "  'bid_price': 0.322642,\n",
       "  'bid_size': 36.0}}"
      ]
     },
     "execution_count": 8,
     "metadata": {},
     "output_type": "execute_result"
    }
   ],
   "source": [
    "a_dic={'doge':price_doge,'btc':price_btc}\n",
    "a_dic"
   ]
  },
  {
   "cell_type": "code",
   "execution_count": 9,
   "metadata": {},
   "outputs": [
    {
     "data": {
      "text/html": [
       "<div>\n",
       "<style scoped>\n",
       "    .dataframe tbody tr th:only-of-type {\n",
       "        vertical-align: middle;\n",
       "    }\n",
       "\n",
       "    .dataframe tbody tr th {\n",
       "        vertical-align: top;\n",
       "    }\n",
       "\n",
       "    .dataframe thead th {\n",
       "        text-align: right;\n",
       "    }\n",
       "</style>\n",
       "<table border=\"1\" class=\"dataframe\">\n",
       "  <thead>\n",
       "    <tr style=\"text-align: right;\">\n",
       "      <th></th>\n",
       "      <th>doge</th>\n",
       "      <th>btc</th>\n",
       "    </tr>\n",
       "  </thead>\n",
       "  <tbody>\n",
       "    <tr>\n",
       "      <th>symbol_id</th>\n",
       "      <td>BTSE_SPOT_ATOM_TUSD</td>\n",
       "      <td>DRAGONEX_SPOT_DOGE_USDT</td>\n",
       "    </tr>\n",
       "    <tr>\n",
       "      <th>time_exchange</th>\n",
       "      <td>2021-05-22T15:09:36.1418323Z</td>\n",
       "      <td>2021-05-22T15:09:36.1626738Z</td>\n",
       "    </tr>\n",
       "    <tr>\n",
       "      <th>time_coinapi</th>\n",
       "      <td>2021-05-22T15:09:36.1445485Z</td>\n",
       "      <td>2021-05-22T15:09:36.1627880Z</td>\n",
       "    </tr>\n",
       "    <tr>\n",
       "      <th>ask_price</th>\n",
       "      <td>12.997</td>\n",
       "      <td>0.355945</td>\n",
       "    </tr>\n",
       "    <tr>\n",
       "      <th>ask_size</th>\n",
       "      <td>360.7</td>\n",
       "      <td>408</td>\n",
       "    </tr>\n",
       "    <tr>\n",
       "      <th>bid_price</th>\n",
       "      <td>12.65</td>\n",
       "      <td>0.322642</td>\n",
       "    </tr>\n",
       "    <tr>\n",
       "      <th>bid_size</th>\n",
       "      <td>927.1</td>\n",
       "      <td>36</td>\n",
       "    </tr>\n",
       "  </tbody>\n",
       "</table>\n",
       "</div>"
      ],
      "text/plain": [
       "                                       doge                           btc\n",
       "symbol_id               BTSE_SPOT_ATOM_TUSD       DRAGONEX_SPOT_DOGE_USDT\n",
       "time_exchange  2021-05-22T15:09:36.1418323Z  2021-05-22T15:09:36.1626738Z\n",
       "time_coinapi   2021-05-22T15:09:36.1445485Z  2021-05-22T15:09:36.1627880Z\n",
       "ask_price                            12.997                      0.355945\n",
       "ask_size                              360.7                           408\n",
       "bid_price                             12.65                      0.322642\n",
       "bid_size                              927.1                            36"
      ]
     },
     "execution_count": 9,
     "metadata": {},
     "output_type": "execute_result"
    }
   ],
   "source": [
    "crypto_df=pd.DataFrame(a_dic)\n",
    "crypto_df"
   ]
  },
  {
   "cell_type": "code",
   "execution_count": 13,
   "metadata": {},
   "outputs": [],
   "source": [
    "crypto_df.to_csv('./crypto_df.csv',index=False)"
   ]
  },
  {
   "cell_type": "code",
   "execution_count": 16,
   "metadata": {},
   "outputs": [
    {
     "name": "stdout",
     "output_type": "stream",
     "text": [
      "2021-05-22 10:16:29,778 INFO sqlalchemy.engine.base.Engine SELECT CAST('test plain returns' AS VARCHAR(60)) AS anon_1\n",
      "2021-05-22 10:16:29,782 INFO sqlalchemy.engine.base.Engine ()\n",
      "2021-05-22 10:16:29,784 INFO sqlalchemy.engine.base.Engine SELECT CAST('test unicode returns' AS VARCHAR(60)) AS anon_1\n",
      "2021-05-22 10:16:29,785 INFO sqlalchemy.engine.base.Engine ()\n"
     ]
    }
   ],
   "source": [
    "engine=sqlalchemy.create_engine('sqlite:///crypto_df',echo=True)\n",
    "sqlite_connection=engine.connect()"
   ]
  },
  {
   "cell_type": "code",
   "execution_count": 17,
   "metadata": {},
   "outputs": [
    {
     "name": "stdout",
     "output_type": "stream",
     "text": [
      "2021-05-22 10:19:13,161 INFO sqlalchemy.engine.base.Engine PRAGMA main.table_info(\"CryptoLife\")\n",
      "2021-05-22 10:19:13,162 INFO sqlalchemy.engine.base.Engine ()\n",
      "2021-05-22 10:19:13,165 INFO sqlalchemy.engine.base.Engine PRAGMA temp.table_info(\"CryptoLife\")\n",
      "2021-05-22 10:19:13,166 INFO sqlalchemy.engine.base.Engine ()\n",
      "2021-05-22 10:19:13,170 INFO sqlalchemy.engine.base.Engine \n",
      "CREATE TABLE \"CryptoLife\" (\n",
      "\t\"index\" TEXT, \n",
      "\tdoge TEXT, \n",
      "\tbtc TEXT\n",
      ")\n",
      "\n",
      "\n",
      "2021-05-22 10:19:13,172 INFO sqlalchemy.engine.base.Engine ()\n",
      "2021-05-22 10:19:13,179 INFO sqlalchemy.engine.base.Engine COMMIT\n",
      "2021-05-22 10:19:13,181 INFO sqlalchemy.engine.base.Engine CREATE INDEX \"ix_CryptoLife_index\" ON \"CryptoLife\" (\"index\")\n",
      "2021-05-22 10:19:13,182 INFO sqlalchemy.engine.base.Engine ()\n",
      "2021-05-22 10:19:13,189 INFO sqlalchemy.engine.base.Engine COMMIT\n",
      "2021-05-22 10:19:13,196 INFO sqlalchemy.engine.base.Engine BEGIN (implicit)\n",
      "2021-05-22 10:19:13,199 INFO sqlalchemy.engine.base.Engine INSERT INTO \"CryptoLife\" (\"index\", doge, btc) VALUES (?, ?, ?)\n",
      "2021-05-22 10:19:13,200 INFO sqlalchemy.engine.base.Engine (('symbol_id', 'BTSE_SPOT_ATOM_TUSD', 'DRAGONEX_SPOT_DOGE_USDT'), ('time_exchange', '2021-05-22T15:09:36.1418323Z', '2021-05-22T15:09:36.1626738Z'), ('time_coinapi', '2021-05-22T15:09:36.1445485Z', '2021-05-22T15:09:36.1627880Z'), ('ask_price', 12.997, 0.355945), ('ask_size', 360.7, 408.0), ('bid_price', 12.65, 0.322642), ('bid_size', 927.1, 36.0))\n",
      "2021-05-22 10:19:13,203 INFO sqlalchemy.engine.base.Engine COMMIT\n",
      "2021-05-22 10:19:13,299 INFO sqlalchemy.engine.base.Engine SELECT name FROM sqlite_master WHERE type='table' ORDER BY name\n",
      "2021-05-22 10:19:13,302 INFO sqlalchemy.engine.base.Engine ()\n"
     ]
    }
   ],
   "source": [
    "sqlite_table=\"CryptoLife\"\n",
    "crypto_df.to_sql(sqlite_table, sqlite_connection, if_exists='fail')"
   ]
  },
  {
   "cell_type": "code",
   "execution_count": null,
   "metadata": {},
   "outputs": [],
   "source": []
  }
 ],
 "metadata": {
  "kernelspec": {
   "display_name": "Python 3",
   "language": "python",
   "name": "python3"
  },
  "language_info": {
   "codemirror_mode": {
    "name": "ipython",
    "version": 3
   },
   "file_extension": ".py",
   "mimetype": "text/x-python",
   "name": "python",
   "nbconvert_exporter": "python",
   "pygments_lexer": "ipython3",
   "version": "3.8.5"
  }
 },
 "nbformat": 4,
 "nbformat_minor": 4
}
